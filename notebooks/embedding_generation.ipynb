{
  "nbformat": 4,
  "nbformat_minor": 0,
  "metadata": {
    "colab": {
      "provenance": []
    },
    "kernelspec": {
      "name": "python3",
      "display_name": "Python 3"
    },
    "language_info": {
      "name": "python"
    }
  },
  "cells": [
    {
      "cell_type": "code",
      "execution_count": null,
      "metadata": {
        "id": "n6ZLZ7W9qGkb"
      },
      "outputs": [],
      "source": [
        "# Embedding Generation Notebook\n",
        "\n",
        "# Import necessary libraries\n",
        "import torch\n",
        "from src.data_utils import load_mnist_data\n",
        "from src.embedding_models import BasicAutoencoder, IntermediateAutoencoder, AdvancedAutoencoder, EnhancedAutoencoder\n",
        "\n",
        "# Load the dataset\n",
        "data_loader = load_mnist_data(fraction=0.5, batch_size=64, shuffle=True)\n",
        "\n",
        "# Define model parameters\n",
        "code_dim = 50\n",
        "device = torch.device(\"cuda\" if torch.cuda.is_available() else \"cpu\")\n",
        "\n",
        "# Initialize and train Basic Autoencoder\n",
        "basic_autoencoder = BasicAutoencoder(code_dim=code_dim).to(device)\n",
        "\n",
        "# Define training parameters\n",
        "criterion = torch.nn.MSELoss()\n",
        "optimizer = torch.optim.Adam(basic_autoencoder.parameters(), lr=1e-3)\n",
        "\n",
        "# Training loop for Basic Autoencoder\n",
        "num_epochs = 10\n",
        "basic_autoencoder.train()\n",
        "for epoch in range(num_epochs):\n",
        "    total_loss = 0\n",
        "    for images, _ in data_loader:\n",
        "        images = images.to(device).float()\n",
        "\n",
        "        # Forward pass\n",
        "        encoded, decoded = basic_autoencoder(images)\n",
        "        loss = criterion(decoded, images)\n",
        "\n",
        "        # Backward pass and optimization\n",
        "        optimizer.zero_grad()\n",
        "        loss.backward()\n",
        "        optimizer.step()\n",
        "\n",
        "        total_loss += loss.item()\n",
        "\n",
        "    print(f\"Epoch {epoch + 1}/{num_epochs}, Loss: {total_loss / len(data_loader):.4f}\")\n",
        "\n",
        "# Save the embeddings\n",
        "basic_autoencoder.eval()\n",
        "with torch.no_grad():\n",
        "    all_embeddings = []\n",
        "    all_labels = []\n",
        "    for images, labels in data_loader:\n",
        "        images = images.to(device).float()\n",
        "        encoded, _ = basic_autoencoder(images)\n",
        "        all_embeddings.append(encoded.cpu())\n",
        "        all_labels.append(labels.cpu())\n",
        "\n",
        "all_embeddings = torch.cat(all_embeddings, dim=0)\n",
        "all_labels = torch.cat(all_labels, dim=0)\n",
        "\n",
        "# Save embeddings to file\n",
        "embedding_path = \"data/embeddings/basic_autoencoder_embeddings.pt\"\n",
        "torch.save({\"embeddings\": all_embeddings, \"labels\": all_labels}, embedding_path)\n",
        "print(f\"Embeddings saved to {embedding_path}\")\n"
      ]
    }
  ]
}